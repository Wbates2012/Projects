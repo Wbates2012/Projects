{
 "cells": [
  {
   "cell_type": "markdown",
   "metadata": {},
   "source": [
    "## In this notebook: If Statements, Lists, and For Loops"
   ]
  },
  {
   "cell_type": "markdown",
   "metadata": {},
   "source": [
    "# If, If/Else, and If/Elif/Else"
   ]
  },
  {
   "cell_type": "markdown",
   "metadata": {},
   "source": [
    "### The Framework"
   ]
  },
  {
   "cell_type": "code",
   "execution_count": null,
   "metadata": {},
   "outputs": [],
   "source": [
    "if (7 > 6): # Inequality that equates to true or false\n",
    "    print(\"I know how numbers work!\") # If the inequality is true, do the thing"
   ]
  },
  {
   "cell_type": "markdown",
   "metadata": {},
   "source": [
    "The above is *all* that's necessary. If the statement is false, nothing will happen.\n",
    "\n",
    "However, we can also include an **else** statement: an alternative for if the inequality is false."
   ]
  },
  {
   "cell_type": "code",
   "execution_count": null,
   "metadata": {},
   "outputs": [],
   "source": [
    "if (7 > 6):\n",
    "    print(\"I know how numbers work!\")\n",
    "else:\n",
    "    print(\"We're living in a weird parallel universe where numbers count down?\")"
   ]
  },
  {
   "cell_type": "markdown",
   "metadata": {},
   "source": [
    "Sometimes, there are more than two options.\n",
    "\n",
    "In that case, we use **elif**.\n",
    "\n",
    "Elif is short for else-if. If the inequality is false, maybe another inequality will be true.\n",
    "\n",
    "#### Let's say we want a function that gives a person's letter grade based on their numeric score."
   ]
  },
  {
   "cell_type": "code",
   "execution_count": null,
   "metadata": {},
   "outputs": [],
   "source": [
    "def grade(score):\n",
    "    if score >= 90: # Equates to false, skips to next if.\n",
    "        return \"A\"\n",
    "    elif score >= 80: # Equates to false, skips to next if.\n",
    "        return \"B\"\n",
    "    elif score >= 70: # 75 >= 70 equates to *true*, so the body of this statement is executed.\n",
    "        return \"C\"\n",
    "    elif score >= 60: # Even though 75 >= 60 is also true, the function returns before it ever reaches this line.\n",
    "        return \"D\"\n",
    "    else:\n",
    "        return \"F\""
   ]
  },
  {
   "cell_type": "code",
   "execution_count": null,
   "metadata": {},
   "outputs": [],
   "source": [
    "grade(75)"
   ]
  },
  {
   "cell_type": "markdown",
   "metadata": {},
   "source": [
    "A function can have multiple return statements, but once it hits the first one, the function ends.\n",
    "\n",
    "**So make sure everything you want the function to do gets done before returning!**"
   ]
  },
  {
   "cell_type": "markdown",
   "metadata": {},
   "source": [
    "### Nested If Statements vs. Elif\n",
    "\n",
    "This function is equivalent to the one above. Can we trace how?"
   ]
  },
  {
   "cell_type": "code",
   "execution_count": null,
   "metadata": {},
   "outputs": [],
   "source": [
    "def grade2(score):\n",
    "    if score >= 60:\n",
    "        if score >= 70:\n",
    "            if score >= 80:\n",
    "                if score >= 90:\n",
    "                    return \"A\"\n",
    "                else:\n",
    "                    return \"B\"\n",
    "            else:\n",
    "                return \"C\"\n",
    "        else:\n",
    "            return \"D\"\n",
    "    else:\n",
    "        return \"F\""
   ]
  },
  {
   "cell_type": "code",
   "execution_count": null,
   "metadata": {},
   "outputs": [],
   "source": [
    "grade(75)"
   ]
  },
  {
   "cell_type": "code",
   "execution_count": null,
   "metadata": {},
   "outputs": [],
   "source": [
    "def grade2(score):\n",
    "    if score >= 60: # This is true, so continue.\n",
    "        if score >= 70: # This is also true, so continue.\n",
    "            if score >= 80: # This is false. Look for an else statement!\n",
    "                if score >= 90:\n",
    "                    return \"A\"\n",
    "                else:\n",
    "                    return \"B\"\n",
    "            else: # This executes.\n",
    "                return \"C\" # But you can see why elif might be preferred.\n",
    "        else:\n",
    "            return \"D\"\n",
    "    else:\n",
    "        return \"F\""
   ]
  },
  {
   "cell_type": "code",
   "execution_count": null,
   "metadata": {},
   "outputs": [],
   "source": [
    "grade2(75)"
   ]
  },
  {
   "cell_type": "markdown",
   "metadata": {},
   "source": [
    "### Side note: \"and\" and \"or\"\n",
    "\n",
    "- Everyone say thank you Python"
   ]
  },
  {
   "cell_type": "markdown",
   "metadata": {},
   "source": [
    "- 'inequality 1 *and* inequality 2' is True if **both** inequalities is True\n",
    "<br>\n",
    "<br>\n",
    "- 'inequality 1 *or* inequality 2' is True if **at least one** inequality is True"
   ]
  },
  {
   "cell_type": "code",
   "execution_count": null,
   "metadata": {},
   "outputs": [],
   "source": [
    "# Both true: and\n",
    "(6 < 7) and (8 < 9)"
   ]
  },
  {
   "cell_type": "code",
   "execution_count": null,
   "metadata": {},
   "outputs": [],
   "source": [
    "# Only one true: and\n",
    "(6 < 7) and (9 < 8)"
   ]
  },
  {
   "cell_type": "code",
   "execution_count": null,
   "metadata": {},
   "outputs": [],
   "source": [
    "# Both true: or\n",
    "(6 < 7) or (8 < 9)"
   ]
  },
  {
   "cell_type": "code",
   "execution_count": null,
   "metadata": {},
   "outputs": [],
   "source": [
    "# Only one true: or\n",
    "(6 < 7) or (9 < 8)"
   ]
  },
  {
   "cell_type": "markdown",
   "metadata": {},
   "source": [
    "- Did we need all the parentheses? (Y/N)"
   ]
  },
  {
   "cell_type": "markdown",
   "metadata": {},
   "source": [
    "# Practice! Woo hoo!\n",
    "\n",
    "## Problem 1"
   ]
  },
  {
   "cell_type": "code",
   "execution_count": null,
   "metadata": {},
   "outputs": [],
   "source": [
    "def even_or_odd(number):\n",
    "    return"
   ]
  },
  {
   "cell_type": "code",
   "execution_count": null,
   "metadata": {},
   "outputs": [],
   "source": [
    "even_or_odd(8) # Should return 'Even'"
   ]
  },
  {
   "cell_type": "markdown",
   "metadata": {},
   "source": [
    "## Problem 2"
   ]
  },
  {
   "cell_type": "code",
   "execution_count": null,
   "metadata": {},
   "outputs": [],
   "source": [
    "'''This function should output \"Both positive\" if both numbers\n",
    "are positive, \"Both negative\" if both numbers are negative, or \n",
    "\"One of each\" if one is positive and the other is negative. \n",
    "Also just pretend 0 doesn't exist.\n",
    "'''\n",
    "\n",
    "def number_line(num1, num2):\n",
    "    return"
   ]
  },
  {
   "cell_type": "code",
   "execution_count": null,
   "metadata": {},
   "outputs": [],
   "source": [
    "number_line(9, 800) # Should return 'Both positive'"
   ]
  },
  {
   "cell_type": "code",
   "execution_count": null,
   "metadata": {},
   "outputs": [],
   "source": [
    "number_line(-1, 1) # Should return 'One of each'"
   ]
  },
  {
   "cell_type": "markdown",
   "metadata": {},
   "source": [
    "# Lists\n",
    "- Lists are everything\n",
    "- Data type that contains other data"
   ]
  },
  {
   "cell_type": "code",
   "execution_count": null,
   "metadata": {},
   "outputs": [],
   "source": [
    "names = ['Fred', 'Velma', 'Daphne', 'Shaggy', 'Scooby']\n",
    "names"
   ]
  },
  {
   "cell_type": "markdown",
   "metadata": {},
   "source": [
    "- Lists can contain **any type of data**"
   ]
  },
  {
   "cell_type": "code",
   "execution_count": null,
   "metadata": {},
   "outputs": [],
   "source": [
    "numbers = [11, 14, 5, -7]\n",
    "numbers"
   ]
  },
  {
   "cell_type": "markdown",
   "metadata": {},
   "source": [
    "- They can even contain **different types of data in one list**"
   ]
  },
  {
   "cell_type": "code",
   "execution_count": null,
   "metadata": {},
   "outputs": [],
   "source": [
    "my_favorite_things = ['chocolate', 'data', 7.9, True, numbers]\n",
    "my_favorite_things"
   ]
  },
  {
   "cell_type": "markdown",
   "metadata": {},
   "source": [
    "- Spoiler: A list of lists is also known as a table (whoa)"
   ]
  },
  {
   "cell_type": "markdown",
   "metadata": {},
   "source": [
    "### List Functions"
   ]
  },
  {
   "cell_type": "code",
   "execution_count": null,
   "metadata": {},
   "outputs": [],
   "source": [
    "numbers"
   ]
  },
  {
   "cell_type": "code",
   "execution_count": null,
   "metadata": {},
   "outputs": [],
   "source": [
    "# Number of items in a list\n",
    "len(numbers)"
   ]
  },
  {
   "cell_type": "code",
   "execution_count": null,
   "metadata": {},
   "outputs": [],
   "source": [
    "# Sum of a list\n",
    "sum(numbers)"
   ]
  },
  {
   "cell_type": "code",
   "execution_count": null,
   "metadata": {},
   "outputs": [],
   "source": [
    "# Minimum and maximum\n",
    "min(numbers)"
   ]
  },
  {
   "cell_type": "code",
   "execution_count": null,
   "metadata": {},
   "outputs": [],
   "source": [
    "max(numbers)"
   ]
  },
  {
   "cell_type": "markdown",
   "metadata": {},
   "source": [
    "**Add to a list using append**"
   ]
  },
  {
   "cell_type": "code",
   "execution_count": null,
   "metadata": {},
   "outputs": [],
   "source": [
    "numbers.append(8)\n",
    "numbers"
   ]
  },
  {
   "cell_type": "code",
   "execution_count": null,
   "metadata": {},
   "outputs": [],
   "source": [
    "names"
   ]
  },
  {
   "cell_type": "code",
   "execution_count": null,
   "metadata": {},
   "outputs": [],
   "source": [
    "names.append('Fred')\n",
    "names"
   ]
  },
  {
   "cell_type": "markdown",
   "metadata": {},
   "source": [
    "**Sort a list**"
   ]
  },
  {
   "cell_type": "code",
   "execution_count": null,
   "metadata": {},
   "outputs": [],
   "source": [
    "numbers.sort()\n",
    "numbers"
   ]
  },
  {
   "cell_type": "code",
   "execution_count": null,
   "metadata": {},
   "outputs": [],
   "source": [
    "names.sort()\n",
    "names"
   ]
  },
  {
   "cell_type": "markdown",
   "metadata": {},
   "source": [
    "**Count the number of times an item appears in a list**"
   ]
  },
  {
   "cell_type": "code",
   "execution_count": null,
   "metadata": {},
   "outputs": [],
   "source": [
    "numbers.count(-7)"
   ]
  },
  {
   "cell_type": "code",
   "execution_count": null,
   "metadata": {},
   "outputs": [],
   "source": [
    "names.count('Fred')"
   ]
  },
  {
   "cell_type": "markdown",
   "metadata": {},
   "source": [
    "### Summary: List Functions"
   ]
  },
  {
   "cell_type": "markdown",
   "metadata": {},
   "source": [
    "<table>\n",
    "    <tr>\n",
    "        <td><b>What you want</b></td>\n",
    "        <td><b>What to type</b></td>\n",
    "    </tr>\n",
    "    <tr>\n",
    "        <td>Length</td>\n",
    "        <td>len(list)</td>\n",
    "    </tr>\n",
    "    <tr>\n",
    "        <td>Sum</td>\n",
    "        <td>sum(list)</td>\n",
    "    </tr>\n",
    "    <tr>\n",
    "        <td>Min, Max</td>\n",
    "        <td>min(list), max(list)</td>\n",
    "    </tr>\n",
    "    <tr>\n",
    "        <td>Add to a list</td>\n",
    "        <td>list.append()</td>\n",
    "    </tr>\n",
    "    <tr>\n",
    "        <td>Sort a list (least to greatest)</td>\n",
    "        <td>list.sort()</td>\n",
    "    </tr>\n",
    "    <tr>\n",
    "        <td>Sort a list (greatest to least)</td>\n",
    "        <td>list.sort(reverse=True)</td>\n",
    "    </tr>\n",
    "    <tr>\n",
    "        <td>Count frequency of item</td>\n",
    "        <td>list.count(x)</td>\n",
    "    </tr>\n",
    "</table>"
   ]
  },
  {
   "cell_type": "markdown",
   "metadata": {},
   "source": [
    "### Practice: List Functions"
   ]
  },
  {
   "cell_type": "markdown",
   "metadata": {},
   "source": [
    "### Problem 3"
   ]
  },
  {
   "cell_type": "code",
   "execution_count": null,
   "metadata": {},
   "outputs": [],
   "source": [
    "numbers = [18, 2, 4, 13, 0, -3, 8]\n",
    "numbers"
   ]
  },
  {
   "cell_type": "code",
   "execution_count": null,
   "metadata": {},
   "outputs": [],
   "source": [
    "def mean(nums):\n",
    "    return"
   ]
  },
  {
   "cell_type": "code",
   "execution_count": null,
   "metadata": {},
   "outputs": [],
   "source": [
    "mean(numbers) # Should return 6.0"
   ]
  },
  {
   "cell_type": "markdown",
   "metadata": {},
   "source": [
    "### List Indexing"
   ]
  },
  {
   "cell_type": "code",
   "execution_count": null,
   "metadata": {},
   "outputs": [],
   "source": [
    "numbers"
   ]
  },
  {
   "cell_type": "markdown",
   "metadata": {},
   "source": [
    "- *Indexing* is how we extract elements from a list\n",
    "\n",
    "- **Important!!! List indices *start at 0*. The first element is list[0], the second is list[1], and so on.**"
   ]
  },
  {
   "cell_type": "code",
   "execution_count": null,
   "metadata": {},
   "outputs": [],
   "source": [
    "numbers[0]"
   ]
  },
  {
   "cell_type": "code",
   "execution_count": null,
   "metadata": {},
   "outputs": [],
   "source": [
    "numbers[1]"
   ]
  },
  {
   "cell_type": "code",
   "execution_count": null,
   "metadata": {},
   "outputs": [],
   "source": [
    "numbers[?] # What would give us the last element?"
   ]
  },
  {
   "cell_type": "code",
   "execution_count": null,
   "metadata": {},
   "outputs": [],
   "source": [
    "numbers[?] # Or, alternatively?"
   ]
  },
  {
   "cell_type": "markdown",
   "metadata": {},
   "source": [
    "### Practice: List Indexing"
   ]
  },
  {
   "cell_type": "markdown",
   "metadata": {},
   "source": [
    "### Problem 4"
   ]
  },
  {
   "cell_type": "code",
   "execution_count": null,
   "metadata": {},
   "outputs": [],
   "source": [
    "numbers = [18, 2, 4, 13, 0, -3, 8]\n",
    "numbers"
   ]
  },
  {
   "cell_type": "code",
   "execution_count": null,
   "metadata": {},
   "outputs": [],
   "source": [
    "# Assume 'nums' contains an odd number of elements\n",
    "# Hint: Use .sort() first to put the list in order\n",
    "# Hint: An index needs to be an int, not a float\n",
    "def median(nums):\n",
    "    return"
   ]
  },
  {
   "cell_type": "code",
   "execution_count": null,
   "metadata": {},
   "outputs": [],
   "source": [
    "median(numbers) # Should return 4"
   ]
  },
  {
   "cell_type": "markdown",
   "metadata": {},
   "source": [
    "# For Loops and While Loops"
   ]
  },
  {
   "cell_type": "code",
   "execution_count": null,
   "metadata": {},
   "outputs": [],
   "source": [
    "numbers = list(range(20))\n",
    "numbers"
   ]
  },
  {
   "cell_type": "code",
   "execution_count": null,
   "metadata": {},
   "outputs": [],
   "source": [
    "def divis_by_3(nums):\n",
    "    triples = []\n",
    "    for i in nums:\n",
    "        if i % 3 == 0:\n",
    "            triples.append(i)\n",
    "    return triples"
   ]
  },
  {
   "cell_type": "code",
   "execution_count": null,
   "metadata": {},
   "outputs": [],
   "source": [
    "divis_by_3(numbers)"
   ]
  },
  {
   "cell_type": "code",
   "execution_count": null,
   "metadata": {},
   "outputs": [],
   "source": [
    "numbers"
   ]
  },
  {
   "cell_type": "code",
   "execution_count": null,
   "metadata": {},
   "outputs": [],
   "source": [
    "for i in numbers:\n",
    "    print(i)"
   ]
  },
  {
   "cell_type": "code",
   "execution_count": null,
   "metadata": {},
   "outputs": [],
   "source": [
    "names"
   ]
  },
  {
   "cell_type": "code",
   "execution_count": null,
   "metadata": {},
   "outputs": [],
   "source": [
    "for i in names:\n",
    "    print(i)"
   ]
  },
  {
   "cell_type": "code",
   "execution_count": null,
   "metadata": {},
   "outputs": [],
   "source": [
    "for i in names:\n",
    "    print(i.replace('a', '4'))"
   ]
  },
  {
   "cell_type": "markdown",
   "metadata": {},
   "source": [
    "### Using range() and len() with for loops"
   ]
  },
  {
   "cell_type": "code",
   "execution_count": null,
   "metadata": {},
   "outputs": [],
   "source": [
    "range(10)"
   ]
  },
  {
   "cell_type": "code",
   "execution_count": null,
   "metadata": {},
   "outputs": [],
   "source": [
    "list(range(10))"
   ]
  },
  {
   "cell_type": "code",
   "execution_count": null,
   "metadata": {},
   "outputs": [],
   "source": [
    "for i in range(10):\n",
    "    if i % 2 == 0:\n",
    "        print(i)"
   ]
  },
  {
   "cell_type": "code",
   "execution_count": null,
   "metadata": {},
   "outputs": [],
   "source": [
    "names"
   ]
  },
  {
   "cell_type": "code",
   "execution_count": null,
   "metadata": {},
   "outputs": [],
   "source": [
    "len(names)"
   ]
  },
  {
   "cell_type": "code",
   "execution_count": null,
   "metadata": {},
   "outputs": [],
   "source": [
    "for i in range(len(names)): # range(len(names)) == range(7) == 0 to 6\n",
    "    print(names[len(names)-i-1])"
   ]
  },
  {
   "cell_type": "markdown",
   "metadata": {},
   "source": [
    "- First iteration: names[7 - 0 - 1] == names[6]\n",
    "- Second iteration: names[7 - 1 - 1] == names[5]\n",
    "- Final iteration: names[7 - 6 - 1] == names[0]"
   ]
  },
  {
   "cell_type": "markdown",
   "metadata": {},
   "source": [
    "## Practice: For Loops\n",
    "\n",
    "### Problem 5"
   ]
  },
  {
   "cell_type": "code",
   "execution_count": null,
   "metadata": {},
   "outputs": [],
   "source": [
    "numbers = [3, 9, 10, 8, 4, 2, 1, 18, 4]\n",
    "numbers"
   ]
  },
  {
   "cell_type": "code",
   "execution_count": null,
   "metadata": {},
   "outputs": [],
   "source": [
    "# Square all even numbers, and negate all odd numbers.\n",
    "def fun(nums):\n",
    "    new_nums = []\n",
    "    for ... in ...:\n",
    "        if ...:\n",
    "            new_nums.append(...)\n",
    "        else:\n",
    "            new_nums.append(...)\n",
    "    return new_nums"
   ]
  },
  {
   "cell_type": "code",
   "execution_count": null,
   "metadata": {},
   "outputs": [],
   "source": [
    "fun(numbers)"
   ]
  },
  {
   "cell_type": "markdown",
   "metadata": {},
   "source": [
    "# Exercises"
   ]
  },
  {
   "cell_type": "markdown",
   "metadata": {},
   "source": [
    "Three bees work at the local honey factory. They're up for quarterly review, so their boss bee has to make \n",
    "some tough decisions. Shown below are the number of jars of honey each bee produced in the past several days. "
   ]
  },
  {
   "cell_type": "code",
   "execution_count": 276,
   "metadata": {},
   "outputs": [],
   "source": [
    "benny = [10, 32, 22, 0, 28, 0]\n",
    "bailey = [18, 8, 16, 36, 5, 12]\n",
    "brooke = [11, 0, 22, 29, 18, 23]"
   ]
  },
  {
   "cell_type": "markdown",
   "metadata": {},
   "source": [
    "### Problem 1"
   ]
  },
  {
   "cell_type": "code",
   "execution_count": 268,
   "metadata": {},
   "outputs": [],
   "source": [
    "# Return the name of the bee that produced the most total honey.\n",
    "def most_honey():\n",
    "    return"
   ]
  },
  {
   "cell_type": "code",
   "execution_count": 269,
   "metadata": {},
   "outputs": [],
   "source": [
    "most_honey() # Should return 'Brooke'"
   ]
  },
  {
   "cell_type": "markdown",
   "metadata": {},
   "source": [
    "### Problem 2\n",
    "\n",
    "- Jars of honey are shipped in packs of six.\n",
    "- As such, boss bee appreciates when a bee produces an exact multiple of six jars (6, 12, 18, etc).\n",
    "- Make a function that returns the number of times a bee produced an exact multiple of six jars of honey."
   ]
  },
  {
   "cell_type": "code",
   "execution_count": 298,
   "metadata": {},
   "outputs": [],
   "source": [
    "# Hint: Add x to an amount by saying 'amount = amount + x'\n",
    "def six_packs(bee):\n",
    "    packs = 0\n",
    "    ...\n",
    "    return packs"
   ]
  },
  {
   "cell_type": "code",
   "execution_count": 299,
   "metadata": {},
   "outputs": [
    {
     "data": {
      "text/plain": [
       "0"
      ]
     },
     "execution_count": 299,
     "metadata": {},
     "output_type": "execute_result"
    }
   ],
   "source": [
    "six_packs(bailey) # Should return 3"
   ]
  },
  {
   "cell_type": "markdown",
   "metadata": {},
   "source": [
    "### Problem 3\n",
    "\n",
    "- Boss bee pays each bee 10 dollars per day as long as they produced any amount of honey that day.\n",
    "- Additionally, he pays them 2 dollars per jar of honey produced.\n",
    "- Return the amount of money a bee made over the course of the past six days."
   ]
  },
  {
   "cell_type": "code",
   "execution_count": 296,
   "metadata": {},
   "outputs": [],
   "source": [
    "def salary(bee):\n",
    "    return"
   ]
  },
  {
   "cell_type": "code",
   "execution_count": 297,
   "metadata": {},
   "outputs": [],
   "source": [
    "salary(benny) # Should return 224"
   ]
  },
  {
   "cell_type": "markdown",
   "metadata": {},
   "source": [
    "### Problem 4\n",
    "\n",
    "- Ultimately, boss bee realizes that honey is a team sport.\n",
    "- With that spirit, he only cares about amount of honey produced by the most productive bee in any given day.\n",
    "- If the best bee in any given day made more than 25 jars, he counts that as a successful day.\n",
    "- If the bees get at least 3 good days, he won't fire any of them. Yay bees!"
   ]
  },
  {
   "cell_type": "code",
   "execution_count": 294,
   "metadata": {},
   "outputs": [],
   "source": [
    "def best_bee():\n",
    "    best = []\n",
    "    '''Write here'''\n",
    "    good_days = 0\n",
    "    '''Write here'''\n",
    "    if good_days >= 3:\n",
    "        return 'Good job bees!'\n",
    "    else:\n",
    "        return \"You're all fired!\""
   ]
  },
  {
   "cell_type": "code",
   "execution_count": 295,
   "metadata": {},
   "outputs": [],
   "source": [
    "best_bee()"
   ]
  }
 ],
 "metadata": {
  "kernelspec": {
   "display_name": "Python 3",
   "language": "python",
   "name": "python3"
  },
  "language_info": {
   "codemirror_mode": {
    "name": "ipython",
    "version": 3
   },
   "file_extension": ".py",
   "mimetype": "text/x-python",
   "name": "python",
   "nbconvert_exporter": "python",
   "pygments_lexer": "ipython3",
   "version": "3.6.8"
  }
 },
 "nbformat": 4,
 "nbformat_minor": 2
}
